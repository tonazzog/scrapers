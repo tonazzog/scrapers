{
 "cells": [
  {
   "cell_type": "code",
   "execution_count": 1,
   "id": "843de08a",
   "metadata": {},
   "outputs": [],
   "source": [
    "import requests\n",
    "from bs4 import BeautifulSoup\n",
    "import json\n",
    "import os\n",
    "import pandas as pd\n",
    "import time\n",
    "from datetime import datetime\n",
    "import re\n",
    "import random"
   ]
  },
  {
   "cell_type": "code",
   "execution_count": 2,
   "id": "a1530202",
   "metadata": {},
   "outputs": [],
   "source": [
    "def get_boards() :\n",
    "    URL = \"https://www.theflatearthsociety.org/forum/index.php\"\n",
    "    page = requests.get(URL)\n",
    "    soup = BeautifulSoup(page.content, \"html.parser\")\n",
    "\n",
    "    boards = []\n",
    "    elements = soup.find_all(\"a\", class_= True)\n",
    "    for e in elements:\n",
    "        href=e.get('href')\n",
    "        if \"board\" in href:\n",
    "            print(e.text + ' ' + href)\n",
    "            boards.append(href)"
   ]
  },
  {
   "cell_type": "code",
   "execution_count": 3,
   "id": "2ab60b90",
   "metadata": {},
   "outputs": [],
   "source": [
    "def get_dataframe():\n",
    "    \n",
    "    return pd.DataFrame(columns = ['topic_id','msg_id','user_id','msg_date', 'msg_title', 'msg_text'])\n"
   ]
  },
  {
   "cell_type": "code",
   "execution_count": 12,
   "id": "0abb83ba",
   "metadata": {},
   "outputs": [],
   "source": [
    "def get_messages(url) :\n",
    "    \n",
    "    print(url)\n",
    "    msgs_df = get_dataframe()\n",
    "    \n",
    "    topic_id = url[url.rindex('topic=') + len('topic=') : url.rindex('.')]\n",
    "    \n",
    "    try:\n",
    "        page = requests.get(url)\n",
    "        soup = BeautifulSoup(page.content, \"html.parser\", from_encoding=\"ISO-8859-1\")    \n",
    "\n",
    "        msg_title = soup.find(\"h1\").text.replace(\"\\n\",\"\").replace(\"\\t\",\"\")\n",
    "\n",
    "        rows = soup.find_all(\"div\", class_ = \"body_message\")\n",
    "\n",
    "        for row in rows:\n",
    "\n",
    "                user_info = row.find(\"h4\")\n",
    "                user_name = user_info.text.replace(\"\\n\",\"\")\n",
    "                user_profile = user_info.find(\"a\").get(\"href\")\n",
    "                user_id = user_profile[user_profile.rindex('=') + 1 :]\n",
    "\n",
    "                datetime_str = row.find(\"div\", class_ = \"body_content\").find(\"div\", class_=\"smalltext\").text\n",
    "                datetime_str = datetime_str[datetime_str.rindex(\"on: \") + len(\"on: \") : ]\n",
    "                datetime_str = datetime_str.replace(\" »\", \"\")\n",
    "                datetime_obj = datetime.strptime(datetime_str, '%B %d, %Y, %I:%M:%S %p')        \n",
    "\n",
    "                message = row.find(\"div\", class_ = \"inner\")\n",
    "                message_id = message.get(\"id\").replace(\"msg_\", \"\")\n",
    "\n",
    "                text = message.get_text(separator = '\\n', strip = True)\n",
    "\n",
    "                quotes = row.find_all(class_ = 'bbc_standard_quote')\n",
    "                for q in quotes :\n",
    "                    text = text.replace(q.get_text(separator = '\\n', strip = True), '')\n",
    "\n",
    "                quotes = row.find_all(class_ = 'topslice_quote')\n",
    "                for q in quotes :\n",
    "                    text = text.replace(q.get_text(separator = '\\n', strip = True), '')\n",
    "\n",
    "                quotes = row.find_all(class_ = 'bbc_alternate_quote')\n",
    "                for q in quotes :\n",
    "                    text = text.replace(q.get_text(separator = '\\n', strip = True), '')    \n",
    "\n",
    "                text = re.sub(r'\\n+', '\\n', text).strip('\\n')\n",
    "                text = text.replace(\"\\n\", \" \")\n",
    "\n",
    "                if len(text) > 20 :\n",
    "                    msg_df = pd.DataFrame({'topic_id' : topic_id, 'user_id' : user_id, 'msg_id': message_id, 'msg_date': datetime_obj, 'msg_title' : msg_title, 'msg_text' : text }, index=[0])\n",
    "                    \n",
    "                    msgs_df = pd.concat([msgs_df if not msgs_df.empty else None, msg_df])\n",
    "                \n",
    "    except:\n",
    "        print(\"error - \" + str(url))\n",
    "        time.sleep(10)\n",
    "    \n",
    "    return msgs_df\n",
    "    "
   ]
  },
  {
   "cell_type": "code",
   "execution_count": 5,
   "id": "0e90ee96",
   "metadata": {},
   "outputs": [],
   "source": [
    "def get_page_topics(url) :\n",
    "    \n",
    "    topics = []\n",
    "    \n",
    "    try:\n",
    "        page = requests.get(url)\n",
    "        soup = BeautifulSoup(page.content, \"html.parser\")\n",
    "        links = soup.find_all(\"td\", class_= \"subject\")\n",
    "        for link in links:\n",
    "            pages = link.find_all(\"a\")\n",
    "            for p in pages : \n",
    "                href = p.get('href')\n",
    "                if \"topic\" in href and href.endswith(\".0\") :\n",
    "                    start_page = href\n",
    "                    next_page = href\n",
    "                    last_page = href\n",
    "\n",
    "            pages = link.find_all(\"a\", class_ = \"navPages\")\n",
    "\n",
    "            if len(pages) == 2 :    \n",
    "                next_page = pages[1].get('href')\n",
    "                last_page = next_page\n",
    "            elif len(pages) > 2 :\n",
    "                next_page = pages[1].get('href')\n",
    "                last_page = pages[len(pages) - 1].get('href')\n",
    "\n",
    "            step = int(next_page[next_page.rindex('.') + 1 : ]) - int(start_page[start_page.rindex('.') + 1 : ])\n",
    "            if step > 0 :\n",
    "                num_pages = int(int(last_page[last_page.rindex('.') + 1 : ]) / step)\n",
    "            else :\n",
    "                num_pages = 0\n",
    "            base_page = start_page[ : start_page.rindex('.') + 1]\n",
    "            for i in range(num_pages + 1):\n",
    "                topic = base_page + str(i * step)\n",
    "                topics.append(topic)\n",
    "                \n",
    "    except :\n",
    "        print(\"error - \" + url)\n",
    "        time.sleep(10)\n",
    "        \n",
    "    return topics\n"
   ]
  },
  {
   "cell_type": "code",
   "execution_count": 6,
   "id": "4b6934db",
   "metadata": {},
   "outputs": [],
   "source": [
    "def get_board_pages(url) :\n",
    "    \n",
    "    board_pages = []\n",
    "    \n",
    "    try :\n",
    "        page = requests.get(url)\n",
    "        soup = BeautifulSoup(page.content, \"html.parser\")\n",
    "        links = soup.find_all(\"div\", class_= \"pagelinks floatleft\")\n",
    "        pages = links[0].find_all(\"a\", class_ = \"navPages\")\n",
    "        start_page = pages[0].get('href')\n",
    "        next_page = pages[1].get('href')\n",
    "        last_page = pages[2].get('href')\n",
    "        step = int(next_page[next_page.rindex('.') + 1 : ]) - int(start_page[start_page.rindex('.') + 1 : ])\n",
    "        num_pages = int(int(last_page[last_page.rindex('.') + 1 : ]) / step)\n",
    "        base_page = start_page[ : start_page.rindex('.') + 1]\n",
    "        for i in range(num_pages + 1):\n",
    "            board_page = base_page + str(i * step)\n",
    "            board_pages.append(board_page)\n",
    "    \n",
    "    except :\n",
    "        print(\"error - \" + url)\n",
    "        time.sleep(10)\n",
    "        \n",
    "    return board_pages\n",
    "        "
   ]
  },
  {
   "cell_type": "code",
   "execution_count": 7,
   "id": "7e53777a",
   "metadata": {},
   "outputs": [],
   "source": [
    "def get_pages_board_topics(board):\n",
    "    \n",
    "    board_pages = get_board_pages(board)\n",
    "    board_topic_pages = []\n",
    "    \n",
    "    for page in board_pages:\n",
    "        page_topics = get_page_topics(page)\n",
    "        board_topic_pages.extend(page_topics)\n",
    "    \n",
    "    return board_topic_pages"
   ]
  },
  {
   "cell_type": "code",
   "execution_count": 14,
   "id": "e0d14875",
   "metadata": {},
   "outputs": [],
   "source": [
    "def scrape_pages(pages, csv_file):\n",
    "    \n",
    "    msgs_df = get_dataframe()\n",
    "    msgs_df.to_csv(csv_file, index=False, header=False)\n",
    "    \n",
    "    for page in pages:\n",
    "        df = get_messages(page)\n",
    "        df.to_csv(csv_file, mode='a', index=False, header=False)      \n",
    "        msgs_df = pd.concat([msgs_df if not msgs_df.empty else None, df])\n",
    "    \n",
    "    return msgs_df"
   ]
  },
  {
   "cell_type": "code",
   "execution_count": 17,
   "id": "04da895b",
   "metadata": {},
   "outputs": [],
   "source": [
    "def scrape_board(name, url, sample = 100.0) :\n",
    "    \n",
    "    txt_file = 'flat-earth-data/' + 'Pages ' + name + '.txt'\n",
    "    csv_file = 'flat-earth-data/' + name + '.csv'\n",
    "        \n",
    "    if os.path.exists(txt_file):\n",
    "        # load from file\n",
    "        with open(txt_file, 'r') as fp:\n",
    "            board_pages = fp.read().split(\"\\n\")\n",
    "            \n",
    "    else:\n",
    "        # scrape for pages\n",
    "        board_pages = get_pages_board_topics(url)    \n",
    "        with open(txt_file, 'w') as fp:\n",
    "            fp.write('\\n'.join(board_pages))\n",
    "\n",
    "    if sample < 100 :\n",
    "        board_pages = random.choices(board_pages, k = int((len(board_pages) * sample) / 100))\n",
    "\n",
    "    msg_df = scrape_pages(board_pages, csv_file)\n",
    "    \n",
    "    return msg_df\n"
   ]
  },
  {
   "cell_type": "code",
   "execution_count": null,
   "id": "1d9df2fc",
   "metadata": {},
   "outputs": [],
   "source": [
    "get_boards()"
   ]
  },
  {
   "cell_type": "code",
   "execution_count": null,
   "id": "989295ca",
   "metadata": {},
   "outputs": [],
   "source": [
    "#Test\n",
    "msg_df = scrape_board('Technology, Science & Alt Science', 'https://www.theflatearthsociety.org/forum/index.php?board=3.0', 0.1)"
   ]
  },
  {
   "cell_type": "code",
   "execution_count": null,
   "id": "e5384b85",
   "metadata": {},
   "outputs": [],
   "source": [
    "sample = 0.1\n",
    "msg_df_gn = scrape_board('Flat Earth General', 'https://www.theflatearthsociety.org/forum/index.php?board=20.0', sample)\n",
    "msg_df_qa = scrape_board('Flat Earth Q&A', 'https://www.theflatearthsociety.org/forum/index.php?board=12.0', sample)\n",
    "msg_df_db = scrape_board('Flat Earth Debate', 'https://www.theflatearthsociety.org/forum/index.php?board=10.0', sample)\n",
    "msg_df_bl = scrape_board('Flat Earth Believers', 'https://www.theflatearthsociety.org/forum/index.php?board=8.0', sample)\n",
    "msg_df_pr = scrape_board('Philosophy, Religion & Society', 'https://www.theflatearthsociety.org/forum/index.php?board=11.0', sample)\n",
    "msg_df_ts = scrape_board('Technology, Science & Alt Science', 'https://www.theflatearthsociety.org/forum/index.php?board=3.0', sample)\n"
   ]
  },
  {
   "cell_type": "code",
   "execution_count": null,
   "id": "13b72ce8",
   "metadata": {},
   "outputs": [],
   "source": []
  },
  {
   "cell_type": "code",
   "execution_count": null,
   "id": "4c8e06f7",
   "metadata": {},
   "outputs": [],
   "source": []
  },
  {
   "cell_type": "code",
   "execution_count": null,
   "id": "f9bcaf61",
   "metadata": {},
   "outputs": [],
   "source": []
  },
  {
   "cell_type": "code",
   "execution_count": null,
   "id": "dd3b381a",
   "metadata": {},
   "outputs": [],
   "source": []
  },
  {
   "cell_type": "markdown",
   "id": "53d438a0",
   "metadata": {},
   "source": []
  },
  {
   "cell_type": "code",
   "execution_count": null,
   "id": "7df006ae",
   "metadata": {},
   "outputs": [],
   "source": []
  },
  {
   "cell_type": "code",
   "execution_count": null,
   "id": "5fbdfa0c",
   "metadata": {},
   "outputs": [],
   "source": []
  },
  {
   "cell_type": "code",
   "execution_count": null,
   "id": "f4afbfe7",
   "metadata": {},
   "outputs": [],
   "source": []
  },
  {
   "cell_type": "code",
   "execution_count": null,
   "id": "b1884910",
   "metadata": {},
   "outputs": [],
   "source": []
  },
  {
   "cell_type": "code",
   "execution_count": null,
   "id": "c27d66fc",
   "metadata": {},
   "outputs": [],
   "source": []
  },
  {
   "cell_type": "markdown",
   "id": "40a10572",
   "metadata": {},
   "source": []
  },
  {
   "cell_type": "code",
   "execution_count": null,
   "id": "6150fe6d",
   "metadata": {},
   "outputs": [],
   "source": []
  },
  {
   "cell_type": "code",
   "execution_count": null,
   "id": "14dfdf0f",
   "metadata": {},
   "outputs": [],
   "source": []
  },
  {
   "cell_type": "code",
   "execution_count": null,
   "id": "8ead0193",
   "metadata": {},
   "outputs": [],
   "source": []
  },
  {
   "cell_type": "code",
   "execution_count": null,
   "id": "6812761b",
   "metadata": {},
   "outputs": [],
   "source": []
  },
  {
   "cell_type": "code",
   "execution_count": null,
   "id": "e45c5d88",
   "metadata": {},
   "outputs": [],
   "source": []
  },
  {
   "cell_type": "code",
   "execution_count": null,
   "id": "f6b35752",
   "metadata": {},
   "outputs": [],
   "source": []
  },
  {
   "cell_type": "code",
   "execution_count": null,
   "id": "af408b28",
   "metadata": {},
   "outputs": [],
   "source": []
  },
  {
   "cell_type": "code",
   "execution_count": null,
   "id": "0b71434a",
   "metadata": {},
   "outputs": [],
   "source": []
  },
  {
   "cell_type": "code",
   "execution_count": null,
   "id": "d58b524e",
   "metadata": {},
   "outputs": [],
   "source": []
  },
  {
   "cell_type": "code",
   "execution_count": null,
   "id": "13e0d590",
   "metadata": {},
   "outputs": [],
   "source": []
  },
  {
   "cell_type": "code",
   "execution_count": null,
   "id": "d81e242d",
   "metadata": {},
   "outputs": [],
   "source": []
  }
 ],
 "metadata": {
  "kernelspec": {
   "display_name": "Python 3 (ipykernel)",
   "language": "python",
   "name": "python3"
  },
  "language_info": {
   "codemirror_mode": {
    "name": "ipython",
    "version": 3
   },
   "file_extension": ".py",
   "mimetype": "text/x-python",
   "name": "python",
   "nbconvert_exporter": "python",
   "pygments_lexer": "ipython3",
   "version": "3.12.3"
  }
 },
 "nbformat": 4,
 "nbformat_minor": 5
}

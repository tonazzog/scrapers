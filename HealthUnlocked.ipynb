{
 "cells": [
  {
   "cell_type": "code",
   "execution_count": null,
   "id": "7f9f371f",
   "metadata": {},
   "outputs": [],
   "source": [
    "# anxiety-depression-support\n",
    "# mental-health-support\n",
    "# anxietysupport\n",
    "# mdd-support"
   ]
  },
  {
   "cell_type": "code",
   "execution_count": 1,
   "id": "532fded4",
   "metadata": {},
   "outputs": [],
   "source": [
    "import requests\n",
    "import json\n",
    "import os\n",
    "import pandas as pd\n",
    "import re\n",
    "import time"
   ]
  },
  {
   "cell_type": "code",
   "execution_count": 2,
   "id": "2872b7be-8f4e-4179-a66e-c75fd9b271ff",
   "metadata": {},
   "outputs": [],
   "source": [
    "from selenium import webdriver\n",
    "from selenium.webdriver.support.ui import WebDriverWait\n",
    "from selenium.webdriver.common.keys import Keys\n",
    "from selenium.webdriver.common.action_chains import ActionChains\n",
    "from selenium.webdriver.support import expected_conditions as EC\n",
    "from selenium.webdriver.common.by import By"
   ]
  },
  {
   "cell_type": "code",
   "execution_count": 3,
   "id": "1abb8479",
   "metadata": {},
   "outputs": [],
   "source": [
    "def write_list_to_file(file_name, write_list):\n",
    "    \n",
    "    with open(file_name, 'w') as fp:\n",
    "        fp.write('\\n'.join(write_list))   \n",
    "  "
   ]
  },
  {
   "cell_type": "code",
   "execution_count": 17,
   "id": "246e28e8",
   "metadata": {},
   "outputs": [],
   "source": [
    "def read_list_from_file(file_name):\n",
    "\n",
    "    if os.path.exists(file_name):\n",
    "        with open(file_name, 'r') as fp:\n",
    "            read_list = fp.read().split(\"\\n\")\n",
    "            \n",
    "            return read_list\n",
    "    else:\n",
    "        return []"
   ]
  },
  {
   "cell_type": "code",
   "execution_count": 5,
   "id": "744947a3",
   "metadata": {},
   "outputs": [],
   "source": [
    "def add_posts_to_file(file_name, posts):\n",
    "    \n",
    "    file_posts = read_list_from_file(file_name)\n",
    "    file_posts.extend(posts)\n",
    "    file_posts = list(set(file_posts))\n",
    "    write_list_to_file(file_name, file_posts)\n",
    "    "
   ]
  },
  {
   "cell_type": "code",
   "execution_count": 6,
   "id": "ea2f1d86",
   "metadata": {},
   "outputs": [],
   "source": [
    "def get_page(session_cookie, page_number):\n",
    "    \n",
    "    url = \"https://healthunlocked.com/private/posts/anxiety-depression-support/latest?pageNumber={pageNumber}\".format(pageNumber = page_number)\n",
    "\n",
    "    payload={}\n",
    "    headers = {\n",
    "      'User-Agent': 'Mozilla/5.0 (Windows NT 10.0; Win64; x64; rv:109.0) Gecko/20100101 Firefox/113.0',\n",
    "      'Accept': 'text/html,application/xhtml+xml,application/xml;q=0.9,image/avif,image/webp,*/*;q=0.8',\n",
    "      'Accept-Language': 'it-IT,it;q=0.8,en-US;q=0.5,en;q=0.3',\n",
    "      'Accept-Encoding': 'gzip, deflate, br',\n",
    "      'Connection': 'keep-alive',\n",
    "      'Cookie': 'huBv=B; huSessID={huSessID};'.format(huSessID = session_cookie),\n",
    "      'Upgrade-Insecure-Requests': '1',\n",
    "      'Sec-Fetch-Dest': 'document',\n",
    "      'Sec-Fetch-Mode': 'navigate',\n",
    "      'Sec-Fetch-Site': 'none',\n",
    "      'Sec-Fetch-User': '?1'\n",
    "    }\n",
    "\n",
    "    response = requests.request(\"GET\", url, headers=headers, data=payload)\n",
    "    \n",
    "    return response\n"
   ]
  },
  {
   "cell_type": "code",
   "execution_count": 7,
   "id": "0f5153ec",
   "metadata": {},
   "outputs": [],
   "source": [
    "def get_post(session_cookie, post_id):\n",
    "    \n",
    "    url = \"https://healthunlocked.com/private/posts/anxiety-depression-support/{id}\".format(id = post_id)\n",
    "\n",
    "    payload={}\n",
    "    headers = {\n",
    "      'User-Agent': 'Mozilla/5.0 (Windows NT 10.0; Win64; x64; rv:109.0) Gecko/20100101 Firefox/113.0',\n",
    "      'Accept': 'text/html,application/xhtml+xml,application/xml;q=0.9,image/avif,image/webp,*/*;q=0.8',\n",
    "      'Accept-Language': 'it-IT,it;q=0.8,en-US;q=0.5,en;q=0.3',\n",
    "      'Accept-Encoding': 'gzip, deflate, br',\n",
    "      'Connection': 'keep-alive',\n",
    "      'Cookie': 'huBv=B; huSessID={huSessID};'.format(huSessID = session_cookie),\n",
    "      'Upgrade-Insecure-Requests': '1',\n",
    "      'Sec-Fetch-Dest': 'document',\n",
    "      'Sec-Fetch-Mode': 'navigate',\n",
    "      'Sec-Fetch-Site': 'none',\n",
    "      'Sec-Fetch-User': '?1'\n",
    "    }\n",
    "\n",
    "    response = requests.request(\"GET\", url, headers=headers, data=payload)\n",
    "\n",
    "    return response\n",
    "\n",
    "   "
   ]
  },
  {
   "cell_type": "code",
   "execution_count": 8,
   "id": "8570b8f8",
   "metadata": {},
   "outputs": [],
   "source": [
    "def save_post(session_cookie, post_id, file_name):\n",
    "    \n",
    "    response = get_post(session_cookie, post_id)\n",
    "    \n",
    "    if response.status_code == 200:\n",
    "        post = json.loads(response.text)\n",
    "        with open(file_name, 'w', encoding='utf-8') as f:\n",
    "            json.dump(post, f, ensure_ascii=False)\n",
    "    else:\n",
    "        print(response.status_code, response.text)       \n",
    "        "
   ]
  },
  {
   "cell_type": "code",
   "execution_count": 9,
   "id": "798036e5",
   "metadata": {},
   "outputs": [],
   "source": [
    "def clean_text(text):\n",
    "\n",
    "    # Remove line breaks\n",
    "    text = re.sub(r'[^a-zA-Z0-9 ,\\.\\?!]', '', text)\n",
    "\n",
    "    return text\n"
   ]
  },
  {
   "cell_type": "code",
   "execution_count": 10,
   "id": "f45c7ed5",
   "metadata": {},
   "outputs": [],
   "source": [
    "def save_latest_posts(session_cookie, number_of_pages, posts_text_file):\n",
    "\n",
    "    # range must start from 1\n",
    "    for page_number in range(1, number_of_pages):\n",
    "        \n",
    "        time.sleep(10)\n",
    "        \n",
    "        response = get_page(session_cookie, page_number)\n",
    "        \n",
    "        if response.status_code == 200:\n",
    "            page = json.loads(response.text)\n",
    "            posts = [str(p['postId']) for p in page]\n",
    "            add_posts_to_file(posts_text_file, posts)\n",
    "            if page_number % 10 == 0:\n",
    "                print('Saved posts for page {}'.format(page_number))\n",
    "        else:\n",
    "            print(response.status_code, response.text)\n",
    "    \n",
    "    "
   ]
  },
  {
   "cell_type": "code",
   "execution_count": 11,
   "id": "df96f8dd",
   "metadata": {},
   "outputs": [],
   "source": [
    "def save_posts_as_json(session_cookie, posts_ids):\n",
    "    \n",
    "    for post_id in posts_ids:\n",
    "        file_name = \"health-data/posts/{id}.json\".format(id = post_id)\n",
    "        if os.path.exists(file_name) == False:\n",
    "            time.sleep(10)\n",
    "            save_post(session_cookie, post_id, file_name)\n",
    "                "
   ]
  },
  {
   "cell_type": "code",
   "execution_count": 12,
   "id": "c6f89780",
   "metadata": {},
   "outputs": [],
   "source": [
    "def save_posts_to_csv(file_name, post_ids, append):\n",
    "    \n",
    "    posts_df = pd.DataFrame(columns = ['id','dateCreated','dateLastActivity','author.id','author.age','author.gender', 'author.country','postUrl','body'],)\n",
    "    \n",
    "    if append == True and os.path.exists(file_name):\n",
    "        df = pd.read_csv(file_name)\n",
    "        posts_df = pd.concat([posts_df, df]) \n",
    "\n",
    "    for post_id in post_ids:\n",
    "        post_file_name = \"health-data/posts/{id}.json\".format(id = post_id)\n",
    "        if os.path.exists(post_file_name) == True and post_id not in posts_df['id'].values:\n",
    "\n",
    "            # Opening JSON file\n",
    "            with open(post_file_name,\"r\",encoding='utf8') as f:\n",
    "                # returns JSON object as a dictionary\n",
    "                post = json.load(f)\n",
    "                #post['body'] = clean_text(post['body'])\n",
    "                df = pd.DataFrame(pd.json_normalize(post))\n",
    "                # Filter columns\n",
    "                df = df[list(posts_df)]\n",
    "                #df['body'] = df['body'].apply(lambda x: clean_text(x))\n",
    "                posts_df = pd.concat([posts_df, df])\n",
    "                    \n",
    "\n",
    "    posts_df.to_csv(file_name, index=False)\n",
    "    "
   ]
  },
  {
   "cell_type": "code",
   "execution_count": 13,
   "id": "e01a368c",
   "metadata": {},
   "outputs": [],
   "source": [
    "# initialize the Chrome driver    \n",
    "driver = webdriver.Chrome()\n",
    "\n",
    "# login to get session cookie\n",
    "driver.get(\"https://healthunlocked.com/login/user/private\")   \n",
    "   "
   ]
  },
  {
   "cell_type": "code",
   "execution_count": 14,
   "id": "30369339",
   "metadata": {},
   "outputs": [],
   "source": [
    "session_cookie = driver.get_cookie(\"huSessID\")[\"value\"]"
   ]
  },
  {
   "cell_type": "code",
   "execution_count": 15,
   "id": "adb4e1ce",
   "metadata": {},
   "outputs": [
    {
     "name": "stdout",
     "output_type": "stream",
     "text": [
      "9d4d4788-8252-471e-856e-83a954feacae%3A3b39f1ee-b9db-4145-9e5e-ae49a2b31e5a\n"
     ]
    }
   ],
   "source": [
    "print(session_cookie)"
   ]
  },
  {
   "cell_type": "code",
   "execution_count": 22,
   "id": "976ed9a9",
   "metadata": {},
   "outputs": [],
   "source": [
    "# Save list of latest posts to text file\n",
    "\n",
    "#session_cookie = get_session_cookie()\n",
    "page_number = 2\n",
    "\n",
    "# Add latest posts to list\n",
    "save_latest_posts(session_cookie, page_number, 'health-data/posts.txt')"
   ]
  },
  {
   "cell_type": "code",
   "execution_count": 23,
   "id": "0c485480",
   "metadata": {},
   "outputs": [],
   "source": [
    "# Save json of new posts\n",
    "\n",
    "# Get list of posts\n",
    "posts = read_list_from_file('health-data/posts.txt')\n",
    "posts_ids = [f for f in posts]\n",
    "\n",
    "# Save as json\n",
    "save_posts_as_json(session_cookie, posts_ids)"
   ]
  },
  {
   "cell_type": "code",
   "execution_count": 21,
   "id": "43ae16d7",
   "metadata": {},
   "outputs": [],
   "source": [
    "# Add posts to csv file\n",
    "posts = read_list_from_file('health-data/posts.txt')\n",
    "post_ids = [f for f in posts]\n",
    "file_name = \"health-data/posts.csv\"\n",
    "save_posts_to_csv(file_name = file_name, post_ids = post_ids , append = os.path.exists(file_name))"
   ]
  },
  {
   "cell_type": "code",
   "execution_count": null,
   "id": "722fe36e",
   "metadata": {},
   "outputs": [],
   "source": [
    "# Check if there posts to download\n",
    "\n",
    "# all posts\n",
    "posts = read_list_from_file('health-data/posts.txt')\n",
    "posts_list = [int(f) for f in posts]\n",
    "print(\"All posts {}\".format(len(posts)))\n",
    "\n",
    "# list of json files\n",
    "json_file_list = os.listdir('health-data/posts')\n",
    "json_list = [int(f.replace('.json','')) for f in json_file_list]\n",
    "print(\"Json files: {}\".format(len(json_list)))\n",
    "      \n",
    "#  list processed posts\n",
    "posts_df = pd.read_csv('health-data/posts.csv')\n",
    "ids_list = posts_df['id'].values.tolist()\n",
    "print(\"Processed posts: {}\".format(len(ids_list)))\n",
    "      \n",
    "# dictionary to search for already processed posts\n",
    "ids = posts_df['id'].values \n",
    "ids_dict = {ids[i]: i for i in range(len(ids))}\n",
    "\n",
    "# posts to download\n",
    "posts_to_download = list(set(posts_list) - set(json_list))\n",
    "print(\"Posts to download: {}\".format(len(posts_to_download)))\n",
    "\n",
    "# json files not processed\n",
    "posts_to_process = list(set(json_list) - set(ids_list))\n",
    "print(\"Posts to process: {}\".format(len(posts_to_process)))\n",
    "\n",
    "#posts_to_process_list = [str(p) for p in posts_to_process]\n",
    "#write_list_to_file('posts_to_process.txt',posts_to_process_list)"
   ]
  },
  {
   "cell_type": "code",
   "execution_count": null,
   "id": "0c1cdcbd",
   "metadata": {},
   "outputs": [],
   "source": [
    "posts_df = pd.read_csv('posts.csv')"
   ]
  },
  {
   "cell_type": "code",
   "execution_count": null,
   "id": "ac142f82",
   "metadata": {},
   "outputs": [],
   "source": [
    "posts_df.head()"
   ]
  },
  {
   "cell_type": "code",
   "execution_count": null,
   "id": "626b0bd2",
   "metadata": {},
   "outputs": [],
   "source": []
  },
  {
   "cell_type": "code",
   "execution_count": null,
   "id": "84a91b3c",
   "metadata": {},
   "outputs": [],
   "source": []
  },
  {
   "cell_type": "code",
   "execution_count": null,
   "id": "aac3b13e",
   "metadata": {},
   "outputs": [],
   "source": [
    "\n",
    "\n"
   ]
  },
  {
   "cell_type": "code",
   "execution_count": null,
   "id": "15f7ae93",
   "metadata": {},
   "outputs": [],
   "source": []
  },
  {
   "cell_type": "code",
   "execution_count": null,
   "id": "847657ae",
   "metadata": {},
   "outputs": [],
   "source": []
  },
  {
   "cell_type": "code",
   "execution_count": null,
   "id": "48c0fe7e",
   "metadata": {},
   "outputs": [],
   "source": []
  }
 ],
 "metadata": {
  "kernelspec": {
   "display_name": "Python 3 (ipykernel)",
   "language": "python",
   "name": "python3"
  },
  "language_info": {
   "codemirror_mode": {
    "name": "ipython",
    "version": 3
   },
   "file_extension": ".py",
   "mimetype": "text/x-python",
   "name": "python",
   "nbconvert_exporter": "python",
   "pygments_lexer": "ipython3",
   "version": "3.12.3"
  }
 },
 "nbformat": 4,
 "nbformat_minor": 5
}

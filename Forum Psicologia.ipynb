{
 "cells": [
  {
   "cell_type": "code",
   "execution_count": 1,
   "id": "72d6804e-a78d-4e70-8d51-6c94cab9eb1b",
   "metadata": {},
   "outputs": [],
   "source": [
    "import requests\n",
    "import json\n",
    "import os\n",
    "import pandas as pd\n",
    "import re\n",
    "import time"
   ]
  },
  {
   "cell_type": "code",
   "execution_count": 2,
   "id": "4a18429b-ccae-4a7e-81bd-94012a311ea1",
   "metadata": {},
   "outputs": [],
   "source": [
    "def get_url(query, page, limit = 10):\n",
    "    # sort by date inserted\n",
    "    #url = 'https://forum.alfemminile.com/api/v2/search?domain=discussions&query={query}&sort=-dateInserted&page={page}&types[0]=discussion&recordTypes[0]=discussion&categoryIDs[0]=11&limit={limit}&locale=it'.format(query = query, page = page, limit = limit)\n",
    "\n",
    "    # default sort : relevance\n",
    "    #url = 'https://forum.alfemminile.com/api/v2/search?domain=discussions&query={query}&page={page}&types[0]=discussion&recordTypes[0]=discussion&categoryIDs[0]=11&limit={limit}&locale=it'.format(query = query, page = page, limit = limit)\n",
    "\n",
    "    # sort by date inserted and filter by date\n",
    "    url = 'https://forum.alfemminile.com/api/v2/search?domain=discussions&dateInserted=[2004-01-01,2024-12-31]&sort=-dateInserted&query={query}&page={page}&types[0]=discussion&recordTypes[0]=discussion&categoryIDs[0]=11&limit={limit}&locale=it'.format(query = query, page = page, limit = limit)\n",
    "    \n",
    "    return url\n",
    "    "
   ]
  },
  {
   "cell_type": "code",
   "execution_count": 3,
   "id": "ed8e9f26-de42-4080-b3c7-c332e7b819df",
   "metadata": {},
   "outputs": [],
   "source": [
    "queries = [\n",
    "    'depressione',\n",
    "    'ansia',\n",
    "    'solitudine',\n",
    "    'suicidio'\n",
    "]\n",
    "max_pages = 2"
   ]
  },
  {
   "cell_type": "code",
   "execution_count": 4,
   "id": "281acd20-c2f1-481d-8323-420c059ab3b4",
   "metadata": {},
   "outputs": [],
   "source": [
    "def clean_text(df):\n",
    "    df['bodyPlainText'] = df['bodyPlainText'].str.replace(\"\\n\", \" \")\n",
    "    df['bodyPlainText'] = df['bodyPlainText'].str.replace(\"\\r\", \" \")\n",
    "    df['bodyPlainText'] = df.apply(lambda x: x['bodyPlainText'].removeprefix(x['name']), axis=1)\n",
    "    df['bodyPlainText'] = df['bodyPlainText'].str.strip()\n",
    "\n",
    "    return df"
   ]
  },
  {
   "cell_type": "code",
   "execution_count": 7,
   "id": "0a67b327-8bd9-4cb1-98e8-02e53ebdbdd0",
   "metadata": {},
   "outputs": [
    {
     "name": "stdout",
     "output_type": "stream",
     "text": [
      "https://forum.alfemminile.com/api/v2/search?domain=discussions&dateInserted=[2004-01-01,2024-12-31]&sort=-dateInserted&query=depressione&page=1&types[0]=discussion&recordTypes[0]=discussion&categoryIDs[0]=11&limit=10&locale=it\n",
      "https://forum.alfemminile.com/api/v2/search?domain=discussions&dateInserted=[2004-01-01,2024-12-31]&sort=-dateInserted&query=depressione&page=2&types[0]=discussion&recordTypes[0]=discussion&categoryIDs[0]=11&limit=10&locale=it\n",
      "https://forum.alfemminile.com/api/v2/search?domain=discussions&dateInserted=[2004-01-01,2024-12-31]&sort=-dateInserted&query=ansia&page=1&types[0]=discussion&recordTypes[0]=discussion&categoryIDs[0]=11&limit=10&locale=it\n",
      "https://forum.alfemminile.com/api/v2/search?domain=discussions&dateInserted=[2004-01-01,2024-12-31]&sort=-dateInserted&query=ansia&page=2&types[0]=discussion&recordTypes[0]=discussion&categoryIDs[0]=11&limit=10&locale=it\n",
      "https://forum.alfemminile.com/api/v2/search?domain=discussions&dateInserted=[2004-01-01,2024-12-31]&sort=-dateInserted&query=solitudine&page=1&types[0]=discussion&recordTypes[0]=discussion&categoryIDs[0]=11&limit=10&locale=it\n",
      "https://forum.alfemminile.com/api/v2/search?domain=discussions&dateInserted=[2004-01-01,2024-12-31]&sort=-dateInserted&query=solitudine&page=2&types[0]=discussion&recordTypes[0]=discussion&categoryIDs[0]=11&limit=10&locale=it\n",
      "https://forum.alfemminile.com/api/v2/search?domain=discussions&dateInserted=[2004-01-01,2024-12-31]&sort=-dateInserted&query=suicidio&page=1&types[0]=discussion&recordTypes[0]=discussion&categoryIDs[0]=11&limit=10&locale=it\n",
      "https://forum.alfemminile.com/api/v2/search?domain=discussions&dateInserted=[2004-01-01,2024-12-31]&sort=-dateInserted&query=suicidio&page=2&types[0]=discussion&recordTypes[0]=discussion&categoryIDs[0]=11&limit=10&locale=it\n"
     ]
    }
   ],
   "source": [
    "# query per categoria\n",
    "df = pd.DataFrame(columns = ['query', 'recordID','insertUserID','name','bodyPlainText','dateInserted'])\n",
    "errors = []\n",
    "for query in queries:\n",
    "    for page in range(max_pages):       \n",
    "        url = get_url(query, page + 1)\n",
    "        print(url)\n",
    "        response = requests.request(\"GET\", url)\n",
    "        time.sleep(2)\n",
    "        if response.status_code == 200:\n",
    "            posts = json.loads(response.text)\n",
    "            if len(posts) > 0:\n",
    "                df_page = pd.DataFrame(posts)                \n",
    "                df_page['query'] = query\n",
    "                df_page = clean_text(df_page)                \n",
    "                df = pd.concat([df, df_page[df.columns.tolist()]])                \n",
    "            else:\n",
    "                break\n",
    "            df.to_csv('psicologia-dati/forum.csv', index = False)\n",
    "        else:\n",
    "            errors.append(url)\n",
    "\n"
   ]
  },
  {
   "cell_type": "code",
   "execution_count": 8,
   "id": "3ad88220-c193-4516-992a-4f3bccb88380",
   "metadata": {},
   "outputs": [
    {
     "name": "stdout",
     "output_type": "stream",
     "text": [
      "https://forum.alfemminile.com/api/v2/search?domain=discussions&dateInserted=[2018-01-01,2018-12-31]&sort=-dateInserted&page=1&types[0]=discussion&recordTypes[0]=discussion&categoryIDs[0]=11&limit=10&locale=it\n",
      "https://forum.alfemminile.com/api/v2/search?domain=discussions&dateInserted=[2018-01-01,2018-12-31]&sort=-dateInserted&page=2&types[0]=discussion&recordTypes[0]=discussion&categoryIDs[0]=11&limit=10&locale=it\n"
     ]
    }
   ],
   "source": [
    "# forum di psicologia\n",
    "n_pages = 2\n",
    "file_name = 'psicologia-dati/psicologia.csv'\n",
    "columns = ['query', 'recordID','insertUserID','name','bodyPlainText','dateInserted']\n",
    "errors = []\n",
    "\n",
    "for page in range(n_pages):       \n",
    "    #url = 'https://forum.alfemminile.com/api/v2/search?domain=discussions&dateInserted=[2004-01-01,2024-12-31]&sort=-dateInserted&page={page}&types[0]=discussion&recordTypes[0]=discussion&categoryIDs[0]=11&limit={limit}&locale=it'.format(page = page + 1, limit = 10)\n",
    "    url = 'https://forum.alfemminile.com/api/v2/search?domain=discussions&dateInserted=[2018-01-01,2018-12-31]&sort=-dateInserted&page={page}&types[0]=discussion&recordTypes[0]=discussion&categoryIDs[0]=11&limit={limit}&locale=it'.format(page = page + 1, limit = 10)\n",
    "    print(url)\n",
    "    response = requests.request(\"GET\", url)\n",
    "    time.sleep(2)\n",
    "    if response.status_code == 200:\n",
    "        posts = json.loads(response.text)\n",
    "        if len(posts) > 0:\n",
    "            df_page = pd.DataFrame(posts)                \n",
    "            df_page['query'] = 'psicologia'\n",
    "            df_page = df_page[columns]\n",
    "            df_page = clean_text(df_page)              \n",
    "            df_page.to_csv(file_name, mode = 'a', index = False, header = not os.path.exists(file_name))              \n",
    "        else:\n",
    "            break\n",
    "        \n",
    "    else:\n",
    "        errors.append(url)"
   ]
  },
  {
   "cell_type": "code",
   "execution_count": 9,
   "id": "74a01ddb-0810-4996-901b-fba2a821e593",
   "metadata": {},
   "outputs": [
    {
     "data": {
      "text/plain": [
       "77"
      ]
     },
     "execution_count": 9,
     "metadata": {},
     "output_type": "execute_result"
    }
   ],
   "source": [
    "len(df)"
   ]
  },
  {
   "cell_type": "code",
   "execution_count": 10,
   "id": "b96a78b7-58ac-4d90-bf89-957a7097f519",
   "metadata": {},
   "outputs": [
    {
     "data": {
      "text/html": [
       "<div>\n",
       "<style scoped>\n",
       "    .dataframe tbody tr th:only-of-type {\n",
       "        vertical-align: middle;\n",
       "    }\n",
       "\n",
       "    .dataframe tbody tr th {\n",
       "        vertical-align: top;\n",
       "    }\n",
       "\n",
       "    .dataframe thead th {\n",
       "        text-align: right;\n",
       "    }\n",
       "</style>\n",
       "<table border=\"1\" class=\"dataframe\">\n",
       "  <thead>\n",
       "    <tr style=\"text-align: right;\">\n",
       "      <th></th>\n",
       "      <th>query</th>\n",
       "      <th>recordID</th>\n",
       "      <th>insertUserID</th>\n",
       "      <th>name</th>\n",
       "      <th>bodyPlainText</th>\n",
       "      <th>dateInserted</th>\n",
       "    </tr>\n",
       "  </thead>\n",
       "  <tbody>\n",
       "    <tr>\n",
       "      <th>0</th>\n",
       "      <td>depressione</td>\n",
       "      <td>6101660</td>\n",
       "      <td>34992711</td>\n",
       "      <td>Lei assume dei farmaci</td>\n",
       "      <td>Lei 30 anni. Da poco di un anno conviviamo ins...</td>\n",
       "      <td>2024-12-30T15:11:32+00:00</td>\n",
       "    </tr>\n",
       "    <tr>\n",
       "      <th>1</th>\n",
       "      <td>depressione</td>\n",
       "      <td>6100943</td>\n",
       "      <td>34996060</td>\n",
       "      <td>Terapia del sogno, è valida per tutte le forme...</td>\n",
       "      <td>Quante volte abbiamo sentito di gesti estremi ...</td>\n",
       "      <td>2024-12-14T16:46:27+00:00</td>\n",
       "    </tr>\n",
       "    <tr>\n",
       "      <th>2</th>\n",
       "      <td>depressione</td>\n",
       "      <td>6100658</td>\n",
       "      <td>34994356</td>\n",
       "      <td>Tristezza nel periodo natalizio</td>\n",
       "      <td>Ogni anno ci ricasco, la mia ansia e la mia de...</td>\n",
       "      <td>2024-12-09T17:31:03+00:00</td>\n",
       "    </tr>\n",
       "    <tr>\n",
       "      <th>3</th>\n",
       "      <td>depressione</td>\n",
       "      <td>6100590</td>\n",
       "      <td>34969891</td>\n",
       "      <td>Come aiutare mia nonna</td>\n",
       "      <td>Buongiorno, scrivo questo post perché sono ann...</td>\n",
       "      <td>2024-12-08T16:58:06+00:00</td>\n",
       "    </tr>\n",
       "    <tr>\n",
       "      <th>4</th>\n",
       "      <td>depressione</td>\n",
       "      <td>6100201</td>\n",
       "      <td>34995593</td>\n",
       "      <td>Mobbing post maternità</td>\n",
       "      <td>Buonasera a tutt*, cerco un consiglio riguardo...</td>\n",
       "      <td>2024-12-01T18:19:23+00:00</td>\n",
       "    </tr>\n",
       "  </tbody>\n",
       "</table>\n",
       "</div>"
      ],
      "text/plain": [
       "         query recordID insertUserID  \\\n",
       "0  depressione  6101660     34992711   \n",
       "1  depressione  6100943     34996060   \n",
       "2  depressione  6100658     34994356   \n",
       "3  depressione  6100590     34969891   \n",
       "4  depressione  6100201     34995593   \n",
       "\n",
       "                                                name  \\\n",
       "0                             Lei assume dei farmaci   \n",
       "1  Terapia del sogno, è valida per tutte le forme...   \n",
       "2                    Tristezza nel periodo natalizio   \n",
       "3                             Come aiutare mia nonna   \n",
       "4                             Mobbing post maternità   \n",
       "\n",
       "                                       bodyPlainText  \\\n",
       "0  Lei 30 anni. Da poco di un anno conviviamo ins...   \n",
       "1  Quante volte abbiamo sentito di gesti estremi ...   \n",
       "2  Ogni anno ci ricasco, la mia ansia e la mia de...   \n",
       "3  Buongiorno, scrivo questo post perché sono ann...   \n",
       "4  Buonasera a tutt*, cerco un consiglio riguardo...   \n",
       "\n",
       "                dateInserted  \n",
       "0  2024-12-30T15:11:32+00:00  \n",
       "1  2024-12-14T16:46:27+00:00  \n",
       "2  2024-12-09T17:31:03+00:00  \n",
       "3  2024-12-08T16:58:06+00:00  \n",
       "4  2024-12-01T18:19:23+00:00  "
      ]
     },
     "execution_count": 10,
     "metadata": {},
     "output_type": "execute_result"
    }
   ],
   "source": [
    "df.head()"
   ]
  },
  {
   "cell_type": "code",
   "execution_count": 62,
   "id": "bbc67654-cc04-4c85-918b-d9e3d63c3d67",
   "metadata": {},
   "outputs": [],
   "source": [
    "import sqlalchemy as sal\n",
    "from sqlalchemy import create_engine\n",
    "from sqlalchemy.engine import URL\n",
    "\n",
    "def save_sql_table(df, table):\n",
    "    connection_url = URL.create(\n",
    "        \"mssql+pyodbc\",\n",
    "        host=\".\",\n",
    "        port=1433,\n",
    "        database=\"NLP\",\n",
    "        query={\n",
    "            \"driver\": \"ODBC Driver 18 for SQL Server\",\n",
    "            \"Encrypt\": \"yes\",\n",
    "            \"TrustServerCertificate\": \"yes\",\n",
    "            \"TrustedConnection\": \"yes\"\n",
    "        },\n",
    "    )\n",
    "    engine = create_engine(connection_url)\n",
    "    conn = engine.connect()\n",
    "\n",
    "    df.to_sql(table, con=engine, if_exists='append', index=False, chunksize=1000)\n",
    "\n",
    "    conn.close()"
   ]
  },
  {
   "cell_type": "code",
   "execution_count": 58,
   "id": "2788a26a-0fa6-4d49-a53a-a8d7a5e9239e",
   "metadata": {},
   "outputs": [],
   "source": [
    "df_depression = df[df['query'] != 'ansia'][['recordID','name','bodyPlainText']].drop_duplicates()"
   ]
  },
  {
   "cell_type": "code",
   "execution_count": 63,
   "id": "aded8dfb-136f-4042-a8c0-a75f2f6b804b",
   "metadata": {},
   "outputs": [],
   "source": [
    "save_sql_table(df_depression, 'DEPRESSION_MESSAGES')"
   ]
  },
  {
   "cell_type": "code",
   "execution_count": 39,
   "id": "b98e38e6-d3df-4373-b4a4-02c70d3d107d",
   "metadata": {},
   "outputs": [],
   "source": []
  },
  {
   "cell_type": "code",
   "execution_count": null,
   "id": "312c4210-b8fa-40ec-9d2c-a5ed485774bd",
   "metadata": {},
   "outputs": [],
   "source": []
  },
  {
   "cell_type": "code",
   "execution_count": null,
   "id": "c5bd8471-18a6-41d6-ba1a-e47af37d0c5f",
   "metadata": {},
   "outputs": [],
   "source": []
  }
 ],
 "metadata": {
  "kernelspec": {
   "display_name": "Python 3 (ipykernel)",
   "language": "python",
   "name": "python3"
  },
  "language_info": {
   "codemirror_mode": {
    "name": "ipython",
    "version": 3
   },
   "file_extension": ".py",
   "mimetype": "text/x-python",
   "name": "python",
   "nbconvert_exporter": "python",
   "pygments_lexer": "ipython3",
   "version": "3.12.3"
  }
 },
 "nbformat": 4,
 "nbformat_minor": 5
}
